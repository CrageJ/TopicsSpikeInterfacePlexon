{
 "cells": [
  {
   "cell_type": "code",
   "execution_count": 5,
   "id": "262a42f7",
   "metadata": {},
   "outputs": [],
   "source": [
    "import numpy as np\n",
    "import matplotlib.pyplot as plt\n",
    "import scipy.io as sio\n",
    "\n",
    "import spikeinterface as si\n",
    "import spikeinterface.extractors as se\n",
    "import spikeinterface.sorters as ss\n",
    "import spikeinterface.comparison as sc\n",
    "import spikeinterface.widgets as sw\n",
    "import spikeinterface.toolkit as st\n",
    "\n",
    "from probeinterface import generate_linear_probe\n",
    "from probeinterface.plotting import plot_probe\n",
    "from mpi4py import MPI\n"
   ]
  },
  {
   "cell_type": "code",
   "execution_count": 6,
   "id": "b0fd43f7",
   "metadata": {},
   "outputs": [
    {
     "data": {
      "text/plain": [
       "[<matplotlib.lines.Line2D at 0x1eb29c90ee0>]"
      ]
     },
     "execution_count": 6,
     "metadata": {},
     "output_type": "execute_result"
    },
    {
     "data": {
      "image/png": "[encoded data removed]",
      "text/plain": [
       "<Figure size 432x288 with 1 Axes>"
      ]
     },
     "metadata": {
      "needs_background": "light"
     },
     "output_type": "display_data"
    }
   ],
   "source": [
    "\n",
    "data = sio.loadmat('M7_S1_n0.1.mat')\n",
    "\n",
    "data = data['signal']\n",
    "\n",
    "temp_numpyArray = np.array(data)\n",
    "\n",
    "\n",
    "\n",
    "\n",
    "\n",
    "#print(type(numpyArray), type(numpyArray[0]), type(numpyArray[0][0]))\n",
    "\n",
    "arrSize = int(np.shape(temp_numpyArray)[1])\n",
    "\n",
    "numpyArray=np.ndarray(shape=(arrSize,1), dtype=float)\n",
    "xArray=[0 for i in range(arrSize)]\n",
    "yArray=[0 for i in range(arrSize)]\n",
    "for i in range(arrSize):\n",
    "    numpyArray[i][0] = temp_numpyArray[0][i] * 10\n",
    "    xArray[i]=i\n",
    "    yArray[i] = temp_numpyArray[0][i] * 10\n",
    "    \n",
    "plt.plot(xArray,yArray) \n",
    "\n"
   ]
  },
  {
   "cell_type": "code",
   "execution_count": 12,
   "id": "39e4e6f2",
   "metadata": {},
   "outputs": [
    {
     "ename": "TypeError",
     "evalue": "__init__() got an unexpected keyword argument 'filter_type'",
     "output_type": "error",
     "traceback": [
      "\u001b[1;31m---------------------------------------------------------------------------\u001b[0m",
      "\u001b[1;31mTypeError\u001b[0m                                 Traceback (most recent call last)",
      "Input \u001b[1;32mIn [12]\u001b[0m, in \u001b[0;36m<cell line: 19>\u001b[1;34m()\u001b[0m\n\u001b[0;32m      7\u001b[0m \u001b[38;5;66;03m##############################################################################\u001b[39;00m\n\u001b[0;32m      8\u001b[0m \u001b[38;5;66;03m# We can generate a pure-noise timeseries dataset for 2 segments with 2\u001b[39;00m\n\u001b[0;32m      9\u001b[0m \u001b[38;5;66;03m# different durations:\u001b[39;00m\n\u001b[1;32m   (...)\u001b[0m\n\u001b[0;32m     15\u001b[0m \u001b[38;5;66;03m# And instantiate a :py:class:`~spikeinterface.core.NumpyRecording`. Each object has a pretty print to\u001b[39;00m\n\u001b[0;32m     16\u001b[0m \u001b[38;5;66;03m# summarize its content:\u001b[39;00m\n\u001b[0;32m     18\u001b[0m recording \u001b[38;5;241m=\u001b[39m se\u001b[38;5;241m.\u001b[39mNumpyRecording(traces_list\u001b[38;5;241m=\u001b[39m[numpyArray], sampling_frequency\u001b[38;5;241m=\u001b[39msampling_frequency)\n\u001b[1;32m---> 19\u001b[0m r \u001b[38;5;241m=\u001b[39m \u001b[43mst\u001b[49m\u001b[38;5;241;43m.\u001b[39;49m\u001b[43mpreprocessing\u001b[49m\u001b[38;5;241;43m.\u001b[39;49m\u001b[43mbandpass_filter\u001b[49m\u001b[43m(\u001b[49m\u001b[43mrecording\u001b[49m\u001b[43m,\u001b[49m\u001b[43m \u001b[49m\u001b[43mfreq_min\u001b[49m\u001b[38;5;241;43m=\u001b[39;49m\u001b[38;5;241;43m300\u001b[39;49m\u001b[43m,\u001b[49m\u001b[43m \u001b[49m\u001b[43mfreq_max\u001b[49m\u001b[38;5;241;43m=\u001b[39;49m\u001b[38;5;241;43m6000\u001b[39;49m\u001b[43m,\u001b[49m\u001b[43m \u001b[49m\u001b[43mfilter_type\u001b[49m\u001b[38;5;241;43m=\u001b[39;49m\u001b[38;5;124;43m'\u001b[39;49m\u001b[38;5;124;43mbutt\u001b[39;49m\u001b[38;5;124;43m'\u001b[39;49m\u001b[43m,\u001b[49m\u001b[43m \u001b[49m\u001b[43morder\u001b[49m\u001b[38;5;241;43m=\u001b[39;49m\u001b[38;5;241;43m3\u001b[39;49m\u001b[43m,\u001b[49m\n\u001b[0;32m     20\u001b[0m \u001b[43m                    \u001b[49m\u001b[43mchunk_size\u001b[49m\u001b[38;5;241;43m=\u001b[39;49m\u001b[38;5;241;43m30000\u001b[39;49m\u001b[43m,\u001b[49m\u001b[43m \u001b[49m\u001b[43mcache_chunks\u001b[49m\u001b[38;5;241;43m=\u001b[39;49m\u001b[38;5;28;43;01mFalse\u001b[39;49;00m\u001b[43m,\u001b[49m\u001b[43m \u001b[49m\u001b[43mdtype\u001b[49m\u001b[38;5;241;43m=\u001b[39;49m\u001b[38;5;28;43;01mNone\u001b[39;49;00m\u001b[43m)\u001b[49m\n",
      "File \u001b[1;32m~\\anaconda3\\lib\\site-packages\\spikeinterface\\toolkit\\preprocessing\\filter.py:217\u001b[0m, in \u001b[0;36mbandpass_filter\u001b[1;34m(*args, **kwargs)\u001b[0m\n\u001b[0;32m    216\u001b[0m \u001b[38;5;28;01mdef\u001b[39;00m \u001b[38;5;21mbandpass_filter\u001b[39m(\u001b[38;5;241m*\u001b[39margs, \u001b[38;5;241m*\u001b[39m\u001b[38;5;241m*\u001b[39mkwargs):\n\u001b[1;32m--> 217\u001b[0m     \u001b[38;5;28;01mreturn\u001b[39;00m BandpassFilterRecording(\u001b[38;5;241m*\u001b[39margs, \u001b[38;5;241m*\u001b[39m\u001b[38;5;241m*\u001b[39mkwargs)\n",
      "File \u001b[1;32m~\\anaconda3\\lib\\site-packages\\spikeinterface\\toolkit\\preprocessing\\filter.py:154\u001b[0m, in \u001b[0;36mBandpassFilterRecording.__init__\u001b[1;34m(self, recording, freq_min, freq_max, margin_ms, dtype, **filter_kwargs)\u001b[0m\n\u001b[0;32m    153\u001b[0m \u001b[38;5;28;01mdef\u001b[39;00m \u001b[38;5;21m__init__\u001b[39m(\u001b[38;5;28mself\u001b[39m, recording, freq_min\u001b[38;5;241m=\u001b[39m\u001b[38;5;241m300.\u001b[39m, freq_max\u001b[38;5;241m=\u001b[39m\u001b[38;5;241m6000.\u001b[39m, margin_ms\u001b[38;5;241m=\u001b[39m\u001b[38;5;241m5.0\u001b[39m, dtype\u001b[38;5;241m=\u001b[39m\u001b[38;5;28;01mNone\u001b[39;00m, \u001b[38;5;241m*\u001b[39m\u001b[38;5;241m*\u001b[39mfilter_kwargs):\n\u001b[1;32m--> 154\u001b[0m     FilterRecording\u001b[38;5;241m.\u001b[39m\u001b[38;5;21m__init__\u001b[39m(\u001b[38;5;28mself\u001b[39m, recording, band\u001b[38;5;241m=\u001b[39m[freq_min, freq_max], margin_ms\u001b[38;5;241m=\u001b[39mmargin_ms, dtype\u001b[38;5;241m=\u001b[39mdtype,\n\u001b[0;32m    155\u001b[0m                              \u001b[38;5;241m*\u001b[39m\u001b[38;5;241m*\u001b[39mfilter_kwargs)\n\u001b[0;32m    156\u001b[0m     \u001b[38;5;28mself\u001b[39m\u001b[38;5;241m.\u001b[39m_kwargs \u001b[38;5;241m=\u001b[39m \u001b[38;5;28mdict\u001b[39m(recording\u001b[38;5;241m=\u001b[39mrecording\u001b[38;5;241m.\u001b[39mto_dict(), freq_min\u001b[38;5;241m=\u001b[39mfreq_min, freq_max\u001b[38;5;241m=\u001b[39mfreq_max, margin_ms\u001b[38;5;241m=\u001b[39mmargin_ms)\n\u001b[0;32m    157\u001b[0m     \u001b[38;5;28mself\u001b[39m\u001b[38;5;241m.\u001b[39m_kwargs\u001b[38;5;241m.\u001b[39mupdate(filter_kwargs)\n",
      "\u001b[1;31mTypeError\u001b[0m: __init__() got an unexpected keyword argument 'filter_type'"
     ]
    }
   ],
   "source": [
    "\n",
    "num_channels = 1\n",
    "sampling_frequency = 48000.  # in Hz\n",
    "durations = [10.]  #  in s for 1 segments\n",
    "#num_segments = 2\n",
    "num_timepoints = [int(sampling_frequency * d) for d in durations] \n",
    "\n",
    "##############################################################################\n",
    "# We can generate a pure-noise timeseries dataset for 2 segments with 2\n",
    "# different durations:\n",
    "\n",
    "#traces0 = np.random.normal(0, 10, (num_timepoints[0], num_channels))\n",
    "\n",
    "\n",
    "##############################################################################\n",
    "# And instantiate a :py:class:`~spikeinterface.core.NumpyRecording`. Each object has a pretty print to\n",
    "# summarize its content:\n",
    "\n",
    "recording = se.NumpyRecording(traces_list=[numpyArray], sampling_frequency=sampling_frequency)\n",
    "r = st.preprocessing.bandpass_filter(recording, freq_min=300, freq_max=6000)\n"
   ]
  },
  {
   "cell_type": "code",
   "execution_count": null,
   "id": "6a9f5499",
   "metadata": {},
   "outputs": [],
   "source": [
    "\n",
    "probe = generate_linear_probe(num_elec=num_channels, ypitch=20, contact_shapes='circle')\n",
    "\n",
    "probe.set_device_channel_indices(np.arange(num_channels))\n",
    "\n",
    "recording = recording.set_probe(probe)\n",
    "plot_probe(probe)\n",
    "\n",
    "\n",
    "\n",
    "threshold_= 5\n",
    "\n",
    "sorting_TDC = ss.run_tridesclous(recording,detect_threshold = threshold_)\n",
    "sorting_SC = ss.run_spykingcircus(recording,detect_threshold = threshold_)"
   ]
  },
  {
   "cell_type": "code",
   "execution_count": null,
   "id": "05c30f2e",
   "metadata": {},
   "outputs": [],
   "source": [
    "print(sorting_TDC)\n",
    "print(sorting_SC)\n",
    "\n",
    "\n",
    "\n",
    "cmp_SC_TDC = sc.compare_two_sorters(\n",
    "    sorting1=sorting_SC,\n",
    "    sorting2=sorting_TDC,\n",
    "    sorting1_name='SC',\n",
    "    sorting2_name='TDC',\n",
    ")\n",
    "\n",
    "\n",
    "\n"
   ]
  },
  {
   "cell_type": "code",
   "execution_count": null,
   "id": "5f2f7b36",
   "metadata": {},
   "outputs": [],
   "source": [
    "sw.plot_agreement_matrix(cmp_SC_TDC)\n",
    "print(cmp_SC_TDC.match_event_count)\n",
    "print(cmp_SC_TDC.agreement_scores)\n",
    "\n",
    "sc_to_tdc, tdc_to_sc = cmp_SC_TDC.get_matching()\n",
    "\n",
    "print('matching SC to TDC')\n",
    "print(sc_to_tdc)\n",
    "print('matching TDC to SC')\n",
    "print(tdc_to_sc)\n",
    "\n",
    "\n"
   ]
  },
  {
   "cell_type": "code",
   "execution_count": null,
   "id": "c531721f",
   "metadata": {},
   "outputs": [],
   "source": [
    "print(vars(sorting_SC))"
   ]
  },
  {
   "cell_type": "code",
   "execution_count": null,
   "id": "3202ccab",
   "metadata": {},
   "outputs": [],
   "source": []
  }
 ],
 "metadata": {
  "kernelspec": {
   "display_name": "Python 3 (ipykernel)",
   "language": "python",
   "name": "python3"
  },
  "language_info": {
   "codemirror_mode": {
    "name": "ipython",
    "version": 3
   },
   "file_extension": ".py",
   "mimetype": "text/x-python",
   "name": "python",
   "nbconvert_exporter": "python",
   "pygments_lexer": "ipython3",
   "version": "3.9.12"
  }
 },
 "nbformat": 4,
 "nbformat_minor": 5
}
